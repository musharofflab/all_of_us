{
 "cells": [
  {
   "cell_type": "code",
   "execution_count": null,
   "id": "0",
   "metadata": {},
   "outputs": [],
   "source": [
    "import numpy as np\n",
    "import pandas as pd\n",
    "from datetime import datetime\n",
    "import seaborn as sns\n",
    "import matplotlib.pyplot as plt"
   ]
  },
  {
   "cell_type": "code",
   "execution_count": null,
   "id": "1",
   "metadata": {},
   "outputs": [],
   "source": [
    "# Function to calculate age given two date strings\n",
    "def calculate_age(birthdate_str, measure_date_str):\n",
    "    birthdate = datetime.strptime(birthdate_str, \"%Y-%m-%d\")\n",
    "    measure_date = datetime.strptime(measure_date_str, \"%Y-%m-%d\")\n",
    "    age = measure_date.year - birthdate.year\n",
    "    if (measure_date.month, measure_date.day) < (birthdate.month, birthdate.day):\n",
    "        age -= 1\n",
    "    return age"
   ]
  },
  {
   "cell_type": "code",
   "execution_count": null,
   "id": "2",
   "metadata": {},
   "outputs": [],
   "source": [
    "measure = pd.read_csv('pheno_raw/measurements.tsv', sep='\\t')"
   ]
  },
  {
   "cell_type": "code",
   "execution_count": null,
   "id": "3",
   "metadata": {},
   "outputs": [],
   "source": [
    "demo = pd.read_csv('Demographics.tsv', sep='\\t')"
   ]
  },
  {
   "cell_type": "code",
   "execution_count": null,
   "id": "4",
   "metadata": {},
   "outputs": [],
   "source": [
    "survey = pd.read_csv('Survey.tsv', sep='\\t')"
   ]
  },
  {
   "cell_type": "markdown",
   "id": "5",
   "metadata": {},
   "source": [
    "### Height"
   ]
  },
  {
   "cell_type": "code",
   "execution_count": null,
   "id": "6",
   "metadata": {},
   "outputs": [],
   "source": [
    "height = measure[measure['standard_concept_name']== 'Body height']"
   ]
  },
  {
   "cell_type": "code",
   "execution_count": null,
   "id": "7",
   "metadata": {},
   "outputs": [],
   "source": [
    "height = height.merge(demo, on='person_id')"
   ]
  },
  {
   "cell_type": "markdown",
   "id": "8",
   "metadata": {},
   "source": [
    "#### Calculate age at measurement"
   ]
  },
  {
   "cell_type": "code",
   "execution_count": null,
   "id": "9",
   "metadata": {},
   "outputs": [],
   "source": [
    "height['date_of_birth'] = height['date_of_birth'].str.split(' ').apply(lambda x: x[0])\n",
    "height['measurement_datetime'] = height['measurement_datetime'].str.split(' ').apply(lambda x: x[0])\n",
    "height['age_at_measure'] = height['date_of_birth'].combine(height['measurement_datetime'], calculate_age)"
   ]
  },
  {
   "cell_type": "code",
   "execution_count": null,
   "id": "10",
   "metadata": {},
   "outputs": [],
   "source": [
    "height = height[(height['age_at_measure'] >= 18) & (height['age_at_measure'] <= 50)]"
   ]
  },
  {
   "cell_type": "code",
   "execution_count": null,
   "id": "11",
   "metadata": {},
   "outputs": [],
   "source": [
    "### check sample size change for 20 or 18"
   ]
  },
  {
   "cell_type": "code",
   "execution_count": null,
   "id": "12",
   "metadata": {},
   "outputs": [],
   "source": [
    "height = height.dropna(subset=['value_as_number'])"
   ]
  },
  {
   "cell_type": "markdown",
   "id": "13",
   "metadata": {},
   "source": [
    "#### Take mean height if multiple records"
   ]
  },
  {
   "cell_type": "code",
   "execution_count": null,
   "id": "14",
   "metadata": {},
   "outputs": [],
   "source": [
    "height = height[(height['value_as_number'] >= 140) & (height['value_as_number'] <= 210)]"
   ]
  },
  {
   "cell_type": "code",
   "execution_count": null,
   "id": "15",
   "metadata": {},
   "outputs": [],
   "source": [
    "height_value = height.groupby(\"person_id\", as_index=False)['value_as_number'].mean()"
   ]
  },
  {
   "cell_type": "code",
   "execution_count": null,
   "id": "16",
   "metadata": {},
   "outputs": [],
   "source": [
    "### We keep age as latest measured\n",
    "height = height.loc[height.groupby('person_id').apply(lambda x: x['age_at_measure'].idxmax())][['person_id', 'standard_concept_name', 'gender', 'race', 'ethnicity', 'sex_at_birth', 'age_at_measure']]"
   ]
  },
  {
   "cell_type": "code",
   "execution_count": null,
   "id": "17",
   "metadata": {},
   "outputs": [],
   "source": [
    "height = height.merge(height_value, on='person_id')"
   ]
  },
  {
   "cell_type": "code",
   "execution_count": null,
   "id": "18",
   "metadata": {},
   "outputs": [],
   "source": [
    "height.to_csv('pheno_cleaned/Height.tsv', sep='\\t', index=False, header=True)"
   ]
  },
  {
   "cell_type": "markdown",
   "id": "19",
   "metadata": {},
   "source": [
    "#### Distributions"
   ]
  },
  {
   "cell_type": "code",
   "execution_count": null,
   "id": "20",
   "metadata": {},
   "outputs": [],
   "source": [
    "height = pd.read_csv('pheno_cleaned/Height.tsv', sep='\\t')"
   ]
  },
  {
   "cell_type": "code",
   "execution_count": null,
   "id": "21",
   "metadata": {},
   "outputs": [],
   "source": [
    "height = height[height['sex_at_birth'].isin(['Female', 'Male'])]\n",
    "height = height[height['race'].isin(['White', 'Black or African American'])]\n",
    "height = height[(height['age_at_measure'] >= 20) & (height['age_at_measure'] <= 50)]"
   ]
  },
  {
   "cell_type": "code",
   "execution_count": null,
   "id": "22",
   "metadata": {},
   "outputs": [],
   "source": [
    "height.value_as_number.max()"
   ]
  },
  {
   "cell_type": "code",
   "execution_count": null,
   "id": "23",
   "metadata": {},
   "outputs": [],
   "source": [
    "height.value_as_number.min()"
   ]
  },
  {
   "cell_type": "code",
   "execution_count": null,
   "id": "24",
   "metadata": {},
   "outputs": [],
   "source": [
    "pd.crosstab(height['sex_at_birth'], height['race'])"
   ]
  },
  {
   "cell_type": "markdown",
   "id": "25",
   "metadata": {},
   "source": [
    "### BMI"
   ]
  },
  {
   "cell_type": "code",
   "execution_count": null,
   "id": "26",
   "metadata": {},
   "outputs": [],
   "source": [
    "### ask if drug taking affects BMI, standard correction available?\n",
    "bmi = measure[measure['standard_concept_name'] == 'Body mass index (BMI) [Ratio]']"
   ]
  },
  {
   "cell_type": "code",
   "execution_count": null,
   "id": "27",
   "metadata": {},
   "outputs": [],
   "source": [
    "bmi = bmi.merge(demo, on='person_id')\n",
    "bmi['date_of_birth'] = bmi['date_of_birth'].str.split(' ').apply(lambda x: x[0])\n",
    "bmi['measurement_datetime'] = bmi['measurement_datetime'].str.split(' ').apply(lambda x: x[0])\n",
    "bmi['age_at_measure'] = bmi['date_of_birth'].combine(bmi['measurement_datetime'], calculate_age)\n",
    "bmi = bmi[(bmi['age_at_measure'] >= 18) & (bmi['age_at_measure'] <= 50)]\n",
    "bmi = bmi[(bmi['value_as_number'] >= 15) & (bmi['value_as_number'] <= 60)]"
   ]
  },
  {
   "cell_type": "code",
   "execution_count": null,
   "id": "28",
   "metadata": {},
   "outputs": [],
   "source": [
    "bmi = bmi.dropna(subset=['value_as_number'])"
   ]
  },
  {
   "cell_type": "code",
   "execution_count": null,
   "id": "29",
   "metadata": {},
   "outputs": [],
   "source": [
    "bmi_value = bmi.groupby(\"person_id\", as_index=False)['value_as_number'].mean()"
   ]
  },
  {
   "cell_type": "code",
   "execution_count": null,
   "id": "30",
   "metadata": {},
   "outputs": [],
   "source": [
    "bmi = bmi.loc[bmi.groupby('person_id').apply(lambda x: x['age_at_measure'].idxmax())][['person_id', 'standard_concept_name', 'gender', 'race', 'ethnicity', 'sex_at_birth', 'age_at_measure']]"
   ]
  },
  {
   "cell_type": "code",
   "execution_count": null,
   "id": "31",
   "metadata": {},
   "outputs": [],
   "source": [
    "bmi = bmi.merge(bmi_value, on='person_id')"
   ]
  },
  {
   "cell_type": "code",
   "execution_count": null,
   "id": "32",
   "metadata": {},
   "outputs": [],
   "source": [
    "bmi.to_csv('pheno_cleaned/BMI.tsv', sep='\\t', index=False, header=True)"
   ]
  },
  {
   "cell_type": "code",
   "execution_count": null,
   "id": "33",
   "metadata": {},
   "outputs": [],
   "source": [
    "bmi = bmi[bmi['sex_at_birth'].isin(['Female', 'Male'])]\n",
    "bmi = bmi[bmi['race'].isin(['White', 'Black or African American'])]"
   ]
  },
  {
   "cell_type": "code",
   "execution_count": null,
   "id": "34",
   "metadata": {},
   "outputs": [],
   "source": [
    "pd.crosstab(bmi['sex_at_birth'], bmi['race'])"
   ]
  },
  {
   "cell_type": "markdown",
   "id": "35",
   "metadata": {},
   "source": [
    "### Waist Circumference, mean of closest 2 measures"
   ]
  },
  {
   "cell_type": "code",
   "execution_count": null,
   "id": "36",
   "metadata": {},
   "outputs": [],
   "source": [
    "wc = measure[measure['standard_concept_name'].str.contains('waist')]"
   ]
  },
  {
   "cell_type": "code",
   "execution_count": null,
   "id": "37",
   "metadata": {},
   "outputs": [],
   "source": [
    "wc = wc.merge(demo, on='person_id')\n",
    "wc['date_of_birth'] = wc['date_of_birth'].str.split(' ').apply(lambda x: x[0])\n",
    "wc['measurement_datetime'] = wc['measurement_datetime'].str.split(' ').apply(lambda x: x[0])\n",
    "wc['age_at_measure'] = wc['date_of_birth'].combine(wc['measurement_datetime'], calculate_age)\n",
    "wc = wc[(wc['age_at_measure'] >= 18) & (wc['age_at_measure'] <= 50)]\n",
    "wc = wc.dropna(subset=['value_as_number'])\n",
    "wc = wc[(wc['value_as_number'] >= 50) & (wc['value_as_number'] <= 160)]"
   ]
  },
  {
   "cell_type": "code",
   "execution_count": null,
   "id": "38",
   "metadata": {},
   "outputs": [],
   "source": [
    "wc_value = wc.groupby(\"person_id\", as_index=False)['value_as_number'].mean()"
   ]
  },
  {
   "cell_type": "code",
   "execution_count": null,
   "id": "39",
   "metadata": {},
   "outputs": [],
   "source": [
    "wc = wc.loc[wc.groupby('person_id').apply(lambda x: x['age_at_measure'].idxmax())][['person_id', 'standard_concept_name', 'gender', 'race', 'ethnicity', 'sex_at_birth', 'age_at_measure']]"
   ]
  },
  {
   "cell_type": "code",
   "execution_count": null,
   "id": "40",
   "metadata": {},
   "outputs": [],
   "source": [
    "wc = wc.merge(wc_value, on='person_id')"
   ]
  },
  {
   "cell_type": "code",
   "execution_count": null,
   "id": "41",
   "metadata": {},
   "outputs": [],
   "source": [
    "wc.to_csv('pheno_cleaned/WC.tsv', sep='\\t', index=False, header=True)"
   ]
  },
  {
   "cell_type": "code",
   "execution_count": null,
   "id": "42",
   "metadata": {},
   "outputs": [],
   "source": [
    "wc = pd.read_csv('pheno_cleaned/WC.tsv', sep='\\t')\n",
    "wc = wc[wc['sex_at_birth'].isin(['Female', 'Male'])]\n",
    "wc = wc[wc['race'].isin(['White', 'Black or African American'])]"
   ]
  },
  {
   "cell_type": "code",
   "execution_count": null,
   "id": "43",
   "metadata": {},
   "outputs": [],
   "source": [
    "pd.crosstab(wc['sex_at_birth'], wc['race'])"
   ]
  },
  {
   "cell_type": "markdown",
   "id": "44",
   "metadata": {},
   "source": [
    "### Educational Attainment"
   ]
  },
  {
   "cell_type": "code",
   "execution_count": null,
   "id": "45",
   "metadata": {},
   "outputs": [],
   "source": [
    "edu = survey[survey['question'] == 'Education Level: Highest Grade']\n",
    "edu = edu.merge(demo, on='person_id')\n",
    "edu['date_of_birth'] = edu['date_of_birth'].str.split(' ').apply(lambda x: x[0])\n",
    "edu['survey_datetime'] = edu['survey_datetime'].str.split(' ').apply(lambda x: x[0])\n",
    "edu['age_at_measure'] = edu['date_of_birth'].combine(edu['survey_datetime'], calculate_age)"
   ]
  },
  {
   "cell_type": "code",
   "execution_count": null,
   "id": "46",
   "metadata": {},
   "outputs": [],
   "source": [
    "edu = edu.loc[edu.groupby('person_id').apply(lambda x: x['age_at_measure'].idxmax())][['person_id', 'question', 'gender', 'race', 'ethnicity', 'sex_at_birth', 'age_at_measure', 'answer']]"
   ]
  },
  {
   "cell_type": "code",
   "execution_count": null,
   "id": "47",
   "metadata": {},
   "outputs": [],
   "source": [
    "edu = edu[~edu['answer'].str.contains('PMI')]\n",
    "edu = edu[edu['age_at_measure'] >= 30]"
   ]
  },
  {
   "cell_type": "code",
   "execution_count": null,
   "id": "48",
   "metadata": {},
   "outputs": [],
   "source": [
    "education_years_dict = {\n",
    "    'Highest Grade: Never Attended': 0,       # No formal education\n",
    "    'Highest Grade: One Through Four': 4,     # Up to 4th grade\n",
    "    'Highest Grade: Five Through Eight': 8,   # Up to 8th grade (middle school)\n",
    "    'Highest Grade: Nine Through Eleven': 11, # Up to 11th grade (high school incomplete)\n",
    "    'Highest Grade: Twelve Or GED': 12,       # High school graduate or GED\n",
    "    'Highest Grade: College One to Three': 14, # Some college (no degree)\n",
    "    'Highest Grade: College Graduate': 16,    # Bachelor's degree\n",
    "    'Highest Grade: Advanced Degree': 20      # Graduate degree (Master's, PhD)\n",
    "}"
   ]
  },
  {
   "cell_type": "code",
   "execution_count": null,
   "id": "49",
   "metadata": {},
   "outputs": [],
   "source": [
    "edu['value_as_number'] = edu['answer'].apply(lambda x: education_years_dict.get(x))"
   ]
  },
  {
   "cell_type": "code",
   "execution_count": null,
   "id": "50",
   "metadata": {},
   "outputs": [],
   "source": [
    "edu.to_csv('pheno_cleaned/EA.tsv', sep='\\t', index=False, header=True)"
   ]
  },
  {
   "cell_type": "code",
   "execution_count": null,
   "id": "51",
   "metadata": {},
   "outputs": [],
   "source": [
    "edu = edu[edu['sex_at_birth'].isin(['Female', 'Male'])]\n",
    "edu = edu[edu['race'].isin(['White', 'Black or African American'])]"
   ]
  },
  {
   "cell_type": "code",
   "execution_count": null,
   "id": "52",
   "metadata": {},
   "outputs": [],
   "source": [
    "pd.crosstab(edu['sex_at_birth'], edu['race'])"
   ]
  },
  {
   "cell_type": "code",
   "execution_count": null,
   "id": "53",
   "metadata": {},
   "outputs": [],
   "source": []
  }
 ],
 "metadata": {
  "kernelspec": {
   "display_name": "Python 3",
   "language": "python",
   "name": "python3"
  },
  "language_info": {
   "codemirror_mode": {
    "name": "ipython",
    "version": 3
   },
   "file_extension": ".py",
   "mimetype": "text/x-python",
   "name": "python",
   "nbconvert_exporter": "python",
   "pygments_lexer": "ipython3",
   "version": "3.10.12"
  },
  "toc": {
   "base_numbering": 1,
   "nav_menu": {},
   "number_sections": true,
   "sideBar": true,
   "skip_h1_title": false,
   "title_cell": "Table of Contents",
   "title_sidebar": "Contents",
   "toc_cell": false,
   "toc_position": {},
   "toc_section_display": true,
   "toc_window_display": false
  }
 },
 "nbformat": 4,
 "nbformat_minor": 5
}
