{
 "cells": [
  {
   "cell_type": "code",
   "execution_count": null,
   "id": "0",
   "metadata": {},
   "outputs": [],
   "source": [
    "import subprocess\n",
    "import os\n",
    "import numpy as np\n",
    "import pandas as pd\n",
    "\n",
    "for i in np.arange(1, 23):\n",
    "    ### Download genotype data\n",
    "    subprocess.run([\n",
    "        'gsutil', '-m', '-u', os.environ['GOOGLE_PROJECT'], \n",
    "        'cp', '-r', \n",
    "        'gs://fc-aou-datasets-controlled/v7/wgs/short_read/snpindel/acaf_threshold_v7.1/plink_bed/acaf_threshold.chr' + str(i) + '.*', \n",
    "        'genotype/AllofUS/'\n",
    "    ])\n",
    "    \n",
    "    ### Extract by population and basic QC\n",
    "    subprocess.run([\n",
    "        'plink',\n",
    "        '--bfile', 'genotype/AllofUS/acaf_threshold.chr' + str(i),\n",
    "        '--keep', 'genotype/Afr_IIDs.tsv',\n",
    "        '--biallelic-only'\n",
    "        '--no-sex',\n",
    "        '--maf', '0.05',\n",
    "        '--indep-pairwise', '50', '5', '0.2',\n",
    "        '--hwe', '1e-6',\n",
    "        '--make-bed',\n",
    "        '--out', 'genotype/AllofUS/AFR/acaf_threshold.chr' + str(i) + '.pruned'\n",
    "    ])\n",
    "    \n",
    "    subprocess.run(['gsutil', '-u', os.environ['GOOGLE_PROJECT'], 'cp', 'genotype/AllofUS/AFR/acaf_threshold.chr' + str(i) + '.pruned'+ '.*', os.environ['WORKSPACE_BUCKET']+'/data/genotype/AllofUS/AFR'])\n",
    "    ### Remove the downloaded files to save space\n",
    "    subprocess.run(['rm', '/home/jupyter/workspaces/assortativemating/genotype/AllofUS/acaf_threshold.chr' + str(i) + '.*'])"
   ]
  },
  {
   "cell_type": "code",
   "execution_count": null,
   "id": "1",
   "metadata": {},
   "outputs": [],
   "source": []
  }
 ],
 "metadata": {
  "kernelspec": {
   "display_name": "Python 3",
   "language": "python",
   "name": "python3"
  },
  "language_info": {
   "codemirror_mode": {
    "name": "ipython",
    "version": 3
   },
   "file_extension": ".py",
   "mimetype": "text/x-python",
   "name": "python",
   "nbconvert_exporter": "python",
   "pygments_lexer": "ipython3",
   "version": "3.10.12"
  },
  "toc": {
   "base_numbering": 1,
   "nav_menu": {},
   "number_sections": true,
   "sideBar": true,
   "skip_h1_title": false,
   "title_cell": "Table of Contents",
   "title_sidebar": "Contents",
   "toc_cell": false,
   "toc_position": {},
   "toc_section_display": true,
   "toc_window_display": false
  }
 },
 "nbformat": 4,
 "nbformat_minor": 5
}
