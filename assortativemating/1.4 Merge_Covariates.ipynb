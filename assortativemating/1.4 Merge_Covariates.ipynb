{
 "cells": [
  {
   "cell_type": "code",
   "execution_count": null,
   "id": "0",
   "metadata": {},
   "outputs": [],
   "source": [
    "import pandas as pd\n",
    "import numpy as np"
   ]
  },
  {
   "cell_type": "code",
   "execution_count": null,
   "id": "1",
   "metadata": {},
   "outputs": [],
   "source": [
    "## Read in population cohorts\n",
    "afr = pd.read_csv('genotype/Afr_IIDs.tsv', sep='\\t', header=None)\n",
    "afr.columns = ['FID', 'IID']\n",
    "white = pd.read_csv('genotype/White_IIDs.tsv', sep='\\t', header=None)\n",
    "white.columns = ['FID', 'IID']"
   ]
  },
  {
   "cell_type": "code",
   "execution_count": null,
   "id": "2",
   "metadata": {},
   "outputs": [],
   "source": [
    "pca = pd.read_csv('PCA/arrays_clean_human_pca.eigenvec', sep='\\t')"
   ]
  },
  {
   "cell_type": "code",
   "execution_count": null,
   "id": "3",
   "metadata": {},
   "outputs": [],
   "source": [
    "pca"
   ]
  },
  {
   "cell_type": "code",
   "execution_count": null,
   "id": "4",
   "metadata": {},
   "outputs": [],
   "source": [
    "for p in ['Height', 'BMI', 'WC', 'EA']:\n",
    "    pheno = pd.read_csv('pheno_cleaned/' + p + '.tsv', sep='\\t')\n",
    "    \n",
    "    ## Subset by population\n",
    "    pheno_black = pheno[pheno['person_id'].isin(afr['IID'])]\n",
    "    pheno_white = pheno[pheno['person_id'].isin(white['IID'])]\n",
    "    \n",
    "    ## merge with pca\n",
    "    pheno_black = pheno_black.merge(pca, left_on='person_id', right_on='#IID', how = 'inner')\n",
    "    pheno_white = pheno_white.merge(pca, left_on='person_id', right_on='#IID', how = 'inner')\n",
    "    \n",
    "    ## Save covars file\n",
    "    pheno_black[['person_id', 'sex_at_birth', 'age_at_measure', 'PC1',\n",
    "       'PC2', 'PC3', 'PC4', 'PC5', 'PC6', 'PC7', 'PC8', 'PC9', 'PC10']].to_csv('Covars/afr_covars_' + p + '.tsv', sep='\\t', index=False, header=True)\n",
    "    \n",
    "    pheno_white[['person_id', 'sex_at_birth', 'age_at_measure', 'PC1',\n",
    "       'PC2', 'PC3', 'PC4', 'PC5', 'PC6', 'PC7', 'PC8', 'PC9', 'PC10']].to_csv('Covars/white_covars_' + p + '.tsv', sep='\\t', index=False, header=True)"
   ]
  },
  {
   "cell_type": "code",
   "execution_count": null,
   "id": "5",
   "metadata": {},
   "outputs": [],
   "source": []
  }
 ],
 "metadata": {
  "kernelspec": {
   "display_name": "Python 3",
   "language": "python",
   "name": "python3"
  },
  "language_info": {
   "codemirror_mode": {
    "name": "ipython",
    "version": 3
   },
   "file_extension": ".py",
   "mimetype": "text/x-python",
   "name": "python",
   "nbconvert_exporter": "python",
   "pygments_lexer": "ipython3",
   "version": "3.10.12"
  },
  "toc": {
   "base_numbering": 1,
   "nav_menu": {},
   "number_sections": true,
   "sideBar": true,
   "skip_h1_title": false,
   "title_cell": "Table of Contents",
   "title_sidebar": "Contents",
   "toc_cell": false,
   "toc_position": {},
   "toc_section_display": true,
   "toc_window_display": false
  }
 },
 "nbformat": 4,
 "nbformat_minor": 5
}
